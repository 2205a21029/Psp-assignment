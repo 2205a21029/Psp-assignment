{
  "nbformat": 4,
  "nbformat_minor": 0,
  "metadata": {
    "colab": {
      "provenance": [],
      "authorship_tag": "ABX9TyOCGHK+eM8YP2NhRZPUdSr8",
      "include_colab_link": true
    },
    "kernelspec": {
      "name": "python3",
      "display_name": "Python 3"
    },
    "language_info": {
      "name": "python"
    }
  },
  "cells": [
    {
      "cell_type": "markdown",
      "metadata": {
        "id": "view-in-github",
        "colab_type": "text"
      },
      "source": [
        "<a href=\"https://colab.research.google.com/github/2205a21029/Psp-assignment/blob/main/2205a21029.ipynb\" target=\"_parent\"><img src=\"https://colab.research.google.com/assets/colab-badge.svg\" alt=\"Open In Colab\"/></a>"
      ]
    },
    {
      "cell_type": "code",
      "execution_count": 10,
      "metadata": {
        "colab": {
          "base_uri": "https://localhost:8080/"
        },
        "id": "aCDU9rOqJmz0",
        "outputId": "244c9a5d-6b8b-4ff1-d91d-a3d51d5dbf75"
      },
      "outputs": [
        {
          "output_type": "stream",
          "name": "stdout",
          "text": [
            "Enter the rating in VA =5000\n",
            "Enter the powerfactor =1\n",
            "Enter the load = 1\n",
            "Enter the full load copper losses in watts = 800\n",
            " Enter the core losses in watts =100\n",
            "copper losses of tranformer at loading = 800.0\n",
            "Efficiency of transformer % = 84.7457627118644\n",
            "load at which maximum efficiency occurs =  0.3535533905932738\n"
          ]
        }
      ],
      "source": [
        "import math\n",
        "Rating = float(input(\"Enter the rating in VA =\"))\n",
        "powerfactor = float(input(\"Enter the powerfactor =\"))\n",
        "load = float(input(\"Enter the load = \"))\n",
        "cu_losses = float(input(\"Enter the full load copper losses in watts = \"))\n",
        "core_losses = float(input(\" Enter the core losses in watts =\"))\n",
        "cu_loss = (cu_losses*load**2)\n",
        "print(\"copper losses of tranformer at loading =\",cu_loss)\n",
        "efficiency = ((load)*Rating*powerfactor)/((load*Rating*powerfactor)+core_losses+cu_loss)*100\n",
        "print(\"Efficiency of transformer % =\",efficiency)\n",
        "maximum_efficiency = math.sqrt(core_losses/cu_losses)\n",
        "print(\"load at which maximum efficiency occurs = \",maximum_efficiency)\n"
      ]
    }
  ]
}