{
  "nbformat": 4,
  "nbformat_minor": 0,
  "metadata": {
    "colab": {
      "provenance": [],
      "authorship_tag": "ABX9TyPqDWNEpFKzfuSrcXi7u2NA",
      "include_colab_link": true
    },
    "kernelspec": {
      "name": "python3",
      "display_name": "Python 3"
    },
    "language_info": {
      "name": "python"
    }
  },
  "cells": [
    {
      "cell_type": "markdown",
      "metadata": {
        "id": "view-in-github",
        "colab_type": "text"
      },
      "source": [
        "<a href=\"https://colab.research.google.com/github/2205a21029/Psp-assignment/blob/main/2205a21029.ipynb\" target=\"_parent\"><img src=\"https://colab.research.google.com/assets/colab-badge.svg\" alt=\"Open In Colab\"/></a>"
      ]
    },
    {
      "cell_type": "code",
      "execution_count": 11,
      "metadata": {
        "colab": {
          "base_uri": "https://localhost:8080/"
        },
        "id": "3mzr2Rg7LhiX",
        "outputId": "85d6c8f2-5710-4f91-dc8e-1f6d29715a0b"
      },
      "outputs": [
        {
          "output_type": "stream",
          "name": "stdout",
          "text": [
            "Enter the transformer rating in voltamperes\n",
            "5000\n",
            "Enter the Primary Voltage of the transformer\n",
            "220\n",
            "Enter the Secondary Voltage of the transformer:440\n",
            "Enter the OC test voltage in volts:220\n",
            "Enter the OC test current in amps:2\n",
            "Enter the OC test power in watts:250\n",
            "Enter the SC test voltage in volts:75\n",
            "Enter the SC test current in amps:10\n",
            "Enter the SC test power in watts:500\n",
            "Enter the powerfactor of the transformer:1\n",
            "Enter the loading of the transformer in watts:1\n",
            "efficienccy = 86.95652173913044\n",
            "RO= 193.6\n",
            "XO= 1.0\n",
            "RO1= 1.25\n",
            "XO1= 1.3975424859373686\n",
            "copper losses of transformer= 500.0\n",
            "NPA= 0.9665016340022088\n"
          ]
        }
      ],
      "source": [
        "import math\n",
        "print(\"Enter the transformer rating in voltamperes\")\n",
        "Rating  = float(input())\n",
        "print(\"Enter the Primary Voltage of the transformer\")\n",
        "Primary_voltage = float(input())\n",
        "Secondary_voltage = float(input(\"Enter the Secondary Voltage of the transformer:\"))\n",
        "OCV = float(input(\"Enter the OC test voltage in volts:\"))\n",
        "OCI = float(input(\"Enter the OC test current in amps:\"))\n",
        "OCW= float(input(\"Enter the OC test power in watts:\"))\n",
        "SCV = float(input(\"Enter the SC test voltage in volts:\"))\n",
        "SCI = float(input(\"Enter the SC test current in amps:\"))\n",
        "SCW = float(input(\"Enter the SC test power in watts:\"))\n",
        "Pow_fac = float(input(\"Enter the powerfactor of the transformer:\"))\n",
        "load = float(input(\"Enter the loading of the transformer in watts:\"))\n",
        "efficiency = (load * Rating * 100)/(load * Rating + OCW + load*load*SCW)\n",
        "npf = OCW / (OCV*OCI)\n",
        "iw = OCI*npf\n",
        "imv = OCI*math.sqrt(1-npf**2)\n",
        "ro = OCV/iw\n",
        "xo = OCV/Primary_voltage\n",
        "K = Secondary_voltage/Primary_voltage\n",
        "rsc = SCW/(SCI**2)\n",
        "zsc = SCV/SCI\n",
        "xsc = math.sqrt(zsc**2-rsc**2)\n",
        "rlv = rsc/(K**2)\n",
        "xlv = xsc/(K**2)\n",
        "xcu = SCW*(load**2)\n",
        "npa = math.acos(OCW/(OCV*OCI))\n",
        "print(\"efficienccy =\",efficiency)\n",
        "print(\"RO=\",ro)\n",
        "print(\"XO=\",xo)\n",
        "print(\"RO1=\",rlv)\n",
        "print(\"XO1=\",xlv)\n",
        "print(\"copper losses of transformer=\",xcu)\n",
        "print(\"NPA=\",npa)\n"
      ]
    }
  ]
}