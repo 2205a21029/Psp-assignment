{
  "nbformat": 4,
  "nbformat_minor": 0,
  "metadata": {
    "colab": {
      "provenance": [],
      "authorship_tag": "ABX9TyMF6CejJWwWBkNz9y6sJcQX",
      "include_colab_link": true
    },
    "kernelspec": {
      "name": "python3",
      "display_name": "Python 3"
    },
    "language_info": {
      "name": "python"
    }
  },
  "cells": [
    {
      "cell_type": "markdown",
      "metadata": {
        "id": "view-in-github",
        "colab_type": "text"
      },
      "source": [
        "<a href=\"https://colab.research.google.com/github/2205a21029/Psp-assignment/blob/main/Untitled0.ipynb\" target=\"_parent\"><img src=\"https://colab.research.google.com/assets/colab-badge.svg\" alt=\"Open In Colab\"/></a>"
      ]
    },
    {
      "cell_type": "code",
      "execution_count": 4,
      "metadata": {
        "colab": {
          "base_uri": "https://localhost:8080/"
        },
        "id": "CLvthdH_YhlZ",
        "outputId": "6a53a265-3cf2-4903-efdc-f84ecd6baa26"
      },
      "outputs": [
        {
          "output_type": "stream",
          "name": "stdout",
          "text": [
            "Enter the rating of the transformer:5000\n",
            "Enter the Primary Voltage of the transformer:220\n",
            "Enter the Secondary Voltage of the transformer:440\n",
            "Enter the OC test voltage in volts:220\n",
            "Enter the OC test current in amps:2\n",
            "Enter the OC test power in watts:50\n",
            "Enter the SC test voltage in volts:75\n",
            "Enter the SC test current in amps:10\n",
            "Enter the SC test power in watts:500\n",
            "Enter the powerfactor of the transformer:1\n",
            "Enter the loading of the transformer in watts:1\n",
            "efficiency= 90.09009009009009\n",
            "RO= 968.0\n",
            "XO= 110.71718063094595\n",
            "RO1= 5.0\n",
            "XO1= 5.5901699437494745\n",
            "copper losses of transformer= 500.0\n"
          ]
        }
      ],
      "source": [
        "import transformer\n",
        "\n",
        "Rating  = float(input(\"Enter the rating of the transformer:\"))\n",
        "Primary_voltage = float(input(\"Enter the Primary Voltage of the transformer:\"))\n",
        "Secondary_voltage = float(input(\"Enter the Secondary Voltage of the transformer:\"))\n",
        "vo = float(input(\"Enter the OC test voltage in volts:\"))\n",
        "io = float(input(\"Enter the OC test current in amps:\"))\n",
        "wo= float(input(\"Enter the OC test power in watts:\"))\n",
        "vsc = float(input(\"Enter the SC test voltage in volts:\"))\n",
        "isc = float(input(\"Enter the SC test current in amps:\"))\n",
        "wsc = float(input(\"Enter the SC test power in watts:\"))\n",
        "Pf = float(input(\"Enter the powerfactor of the transformer:\"))\n",
        "x = float(input(\"Enter the loading of the transformer in watts:\"))\n",
        "[ro,xo]=transformer.oc(vo,io,wo)\n",
        "[rsc,xsc]=transformer.sc(vsc,isc,wsc)\n",
        "[efficiency,copper]=transformer.eff2(Rating,wo,wsc,Pf,x)\n",
        "print(\"efficiency=\",efficiency)\n",
        "print(\"RO=\",ro)\n",
        "print(\"XO=\",xo)\n",
        "print(\"RO1=\",rsc)\n",
        "print(\"XO1=\",xsc)\n",
        "print(\"copper losses of transformer=\",copper)\n"
      ]
    }
  ]
}