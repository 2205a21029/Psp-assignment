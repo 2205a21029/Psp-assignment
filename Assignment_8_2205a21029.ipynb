{
  "nbformat": 4,
  "nbformat_minor": 0,
  "metadata": {
    "colab": {
      "provenance": [],
      "authorship_tag": "ABX9TyOcpV71pFoT+QT9hlhHhKIW",
      "include_colab_link": true
    },
    "kernelspec": {
      "name": "python3",
      "display_name": "Python 3"
    },
    "language_info": {
      "name": "python"
    }
  },
  "cells": [
    {
      "cell_type": "markdown",
      "metadata": {
        "id": "view-in-github",
        "colab_type": "text"
      },
      "source": [
        "<a href=\"https://colab.research.google.com/github/2205a21029/Psp-assignment/blob/main/Assignment_8_2205a21029.ipynb\" target=\"_parent\"><img src=\"https://colab.research.google.com/assets/colab-badge.svg\" alt=\"Open In Colab\"/></a>"
      ]
    },
    {
      "cell_type": "markdown",
      "source": [
        "# SETS\n",
        "\n"
      ],
      "metadata": {
        "id": "Juar-LZRsA3y"
      }
    },
    {
      "cell_type": "code",
      "execution_count": 1,
      "metadata": {
        "colab": {
          "base_uri": "https://localhost:8080/"
        },
        "id": "JaDGK6tEpMnN",
        "outputId": "26e9250c-97be-409a-cbcb-ab7917509a1f"
      },
      "outputs": [
        {
          "output_type": "stream",
          "name": "stdout",
          "text": [
            "{2000, 500, 'rajkumar', 'sonu', 1000, 'srihari', 'Rakesh'}\n"
          ]
        }
      ],
      "source": [
        "Element={\"Rakesh\",\"rajkumar\",\"sonu\",\"srihari\",500,1000,2000}\n",
        "print(Element)"
      ]
    },
    {
      "cell_type": "code",
      "source": [
        "Element={\"Rakesh\",\"rajkumar\",\"sonu\",\"srihari\",500,1000,1000,500}\n",
        "print(Element)"
      ],
      "metadata": {
        "colab": {
          "base_uri": "https://localhost:8080/"
        },
        "id": "cKX-F2Orqw2x",
        "outputId": "3d7e10ee-d854-46d8-9073-2404547d7b32"
      },
      "execution_count": 2,
      "outputs": [
        {
          "output_type": "stream",
          "name": "stdout",
          "text": [
            "{500, 'rajkumar', 'sonu', 1000, 'srihari', 'Rakesh'}\n"
          ]
        }
      ]
    },
    {
      "cell_type": "code",
      "source": [
        "bool_values={True,False,1,0}\n",
        "print(bool_values)\n",
        "print(len(bool_values))"
      ],
      "metadata": {
        "colab": {
          "base_uri": "https://localhost:8080/"
        },
        "id": "0qOnP0sBq5fR",
        "outputId": "879282c9-b278-44c8-a235-423ec36eb5f3"
      },
      "execution_count": 3,
      "outputs": [
        {
          "output_type": "stream",
          "name": "stdout",
          "text": [
            "{False, True}\n",
            "2\n"
          ]
        }
      ]
    },
    {
      "cell_type": "code",
      "source": [
        "a={\"Rakesh\",\"sonu\"}\n",
        "b={1,2,3,4,5,}\n",
        "c={True,False}\n",
        "print(a)\n",
        "print(b)\n",
        "print(c)\n",
        "print(len(a))\n",
        "print(len(b))\n",
        "print(len(c))"
      ],
      "metadata": {
        "colab": {
          "base_uri": "https://localhost:8080/"
        },
        "id": "uOX2nWeZq9Hx",
        "outputId": "2c0c68f5-3172-4c1b-b9e0-58680b38c24c"
      },
      "execution_count": 6,
      "outputs": [
        {
          "output_type": "stream",
          "name": "stdout",
          "text": [
            "{'Rakesh', 'sonu'}\n",
            "{1, 2, 3, 4, 5}\n",
            "{False, True}\n",
            "2\n",
            "5\n",
            "2\n"
          ]
        }
      ]
    },
    {
      "cell_type": "code",
      "source": [
        "Element={\"Rakesh\",\"rajkumar\",\"sonu\",\"srihari\",500,1000,1000,500}\n",
        "print(Element)\n",
        "print(type(Element))"
      ],
      "metadata": {
        "colab": {
          "base_uri": "https://localhost:8080/"
        },
        "id": "A9v4wx3LrCzR",
        "outputId": "da6d0675-f554-432e-936b-612d02d1711c"
      },
      "execution_count": 5,
      "outputs": [
        {
          "output_type": "stream",
          "name": "stdout",
          "text": [
            "{500, 'rajkumar', 'sonu', 1000, 'srihari', 'Rakesh'}\n",
            "<class 'set'>\n"
          ]
        }
      ]
    },
    {
      "cell_type": "code",
      "source": [
        "Element=set((\"Rakesh\",\"rajkumar\",\"sonu\",\"srihari\",500,1000,1000,500))\n",
        "print(Element)\n",
        "print(type(Element))"
      ],
      "metadata": {
        "colab": {
          "base_uri": "https://localhost:8080/"
        },
        "id": "RN8tvVmwrDtB",
        "outputId": "b3ea2359-486c-4e2d-bf55-062901306368"
      },
      "execution_count": 4,
      "outputs": [
        {
          "output_type": "stream",
          "name": "stdout",
          "text": [
            "{'rajkumar', 1000, 'srihari', 'Rakesh', 500, 'sonu'}\n",
            "<class 'set'>\n"
          ]
        }
      ]
    },
    {
      "cell_type": "code",
      "source": [
        "Element=set((\"Rakesh\",\"rajkumar\",\"sonu\",\"srihari\",500,1000,1000,500))\n",
        "for value in Element:\n",
        "  print(value)"
      ],
      "metadata": {
        "colab": {
          "base_uri": "https://localhost:8080/"
        },
        "id": "ZqsaPvDyrO6x",
        "outputId": "f50b7ac4-1f4d-433f-97e7-adefc277d0b5"
      },
      "execution_count": 7,
      "outputs": [
        {
          "output_type": "stream",
          "name": "stdout",
          "text": [
            "rajkumar\n",
            "1000\n",
            "srihari\n",
            "Rakesh\n",
            "500\n",
            "sonu\n"
          ]
        }
      ]
    },
    {
      "cell_type": "code",
      "source": [
        "Element=set((\"Rakesh\",\"rajkumar\",\"sonu\",\"srihari\",500,1000,1000,500))\n",
        "print(\"Rakesh\" in Element)\n",
        "print(\"rajkumar\" not in Element)"
      ],
      "metadata": {
        "colab": {
          "base_uri": "https://localhost:8080/"
        },
        "id": "ME530veOrYVj",
        "outputId": "55c8d598-c9d8-4c40-8bf1-f3da1c93c3cd"
      },
      "execution_count": 8,
      "outputs": [
        {
          "output_type": "stream",
          "name": "stdout",
          "text": [
            "True\n",
            "False\n"
          ]
        }
      ]
    },
    {
      "cell_type": "code",
      "source": [
        "Element={\"Rakesh\",\"rajkumar\",\"sonu\",\"srihari\"}\n",
        "print(Element)\n",
        "Element.add(\"das\")\n",
        "print(Element)"
      ],
      "metadata": {
        "colab": {
          "base_uri": "https://localhost:8080/"
        },
        "id": "Q4PjtkakrfcJ",
        "outputId": "229a5b85-f29d-4f89-d768-d22a63a610a4"
      },
      "execution_count": 9,
      "outputs": [
        {
          "output_type": "stream",
          "name": "stdout",
          "text": [
            "{'srihari', 'Rakesh', 'sonu', 'rajkumar'}\n",
            "{'rajkumar', 'srihari', 'Rakesh', 'das', 'sonu'}\n"
          ]
        }
      ]
    },
    {
      "cell_type": "code",
      "source": [
        "Element={\"Rakesh\",\"rajkumar\",\"sonu\",\"srihari\"}\n",
        "point={\"mango\",\"apple\",\"banana\"}\n",
        "Element.update(point)\n",
        "print(Element)"
      ],
      "metadata": {
        "colab": {
          "base_uri": "https://localhost:8080/"
        },
        "id": "BveRPagnrjmx",
        "outputId": "347d0164-9337-44fd-e639-69590937f55a"
      },
      "execution_count": 10,
      "outputs": [
        {
          "output_type": "stream",
          "name": "stdout",
          "text": [
            "{'apple', 'sonu', 'rajkumar', 'mango', 'srihari', 'Rakesh', 'banana'}\n"
          ]
        }
      ]
    },
    {
      "cell_type": "code",
      "source": [
        "Element={\"Rakesh\",\"rajkumar\",\"sonu\",\"srihari\"}\n",
        "Element.remove(\"rajkumar\")\n",
        "print(Element)"
      ],
      "metadata": {
        "colab": {
          "base_uri": "https://localhost:8080/"
        },
        "id": "1zOIxohurozi",
        "outputId": "f5558555-dadf-45a8-aba4-0d28ed4eecf8"
      },
      "execution_count": 11,
      "outputs": [
        {
          "output_type": "stream",
          "name": "stdout",
          "text": [
            "{'srihari', 'Rakesh', 'sonu'}\n"
          ]
        }
      ]
    },
    {
      "cell_type": "code",
      "source": [
        "Element={\"Rakesh\",\"rajkumar\",\"sonu\",\"srihari\"}\n",
        "Element.discard(\"rajkumar\")\n",
        "print(Element)"
      ],
      "metadata": {
        "colab": {
          "base_uri": "https://localhost:8080/"
        },
        "id": "AabIrCoZru8h",
        "outputId": "ab7239f8-af0b-402e-f140-f4e8a3886036"
      },
      "execution_count": 12,
      "outputs": [
        {
          "output_type": "stream",
          "name": "stdout",
          "text": [
            "{'srihari', 'Rakesh', 'sonu'}\n"
          ]
        }
      ]
    },
    {
      "cell_type": "code",
      "source": [
        "Element={\"Rakesh\",\"rajkumar\",\"sonu\",\"srihari\"}\n",
        "a=Element.pop()\n",
        "print(a)\n",
        "print(Element)"
      ],
      "metadata": {
        "colab": {
          "base_uri": "https://localhost:8080/"
        },
        "id": "_b0-L-0zrweZ",
        "outputId": "46ed61d9-061e-4dcc-8ebd-334a7312d88d"
      },
      "execution_count": 13,
      "outputs": [
        {
          "output_type": "stream",
          "name": "stdout",
          "text": [
            "srihari\n",
            "{'Rakesh', 'sonu', 'rajkumar'}\n"
          ]
        }
      ]
    },
    {
      "cell_type": "code",
      "source": [
        "Element={\"Rakesh\",\"rajkumar\",\"sonu\",\"srihari\"}\n",
        "Element.clear()\n",
        "print(Element)"
      ],
      "metadata": {
        "colab": {
          "base_uri": "https://localhost:8080/"
        },
        "id": "whvtUMpJr1JZ",
        "outputId": "cd123960-6066-4128-83f0-03633d38e36f"
      },
      "execution_count": 14,
      "outputs": [
        {
          "output_type": "stream",
          "name": "stdout",
          "text": [
            "set()\n"
          ]
        }
      ]
    },
    {
      "cell_type": "code",
      "source": [
        "Element={\"Rakesh\",\"rajkumar\",\"sonu\",\"srihari\"}\n",
        "for value in Element:\n",
        "  print(value)"
      ],
      "metadata": {
        "colab": {
          "base_uri": "https://localhost:8080/"
        },
        "id": "nlbAC5d2r4th",
        "outputId": "a0f7ad43-bfc1-496d-9b87-383b6851825e"
      },
      "execution_count": 15,
      "outputs": [
        {
          "output_type": "stream",
          "name": "stdout",
          "text": [
            "srihari\n",
            "Rakesh\n",
            "sonu\n",
            "rajkumar\n"
          ]
        }
      ]
    },
    {
      "cell_type": "markdown",
      "source": [],
      "metadata": {
        "id": "uM4MXyO_r-fp"
      }
    },
    {
      "cell_type": "markdown",
      "source": [
        "\n",
        "# LIST\n"
      ],
      "metadata": {
        "id": "b5Ms2-POsITY"
      }
    },
    {
      "cell_type": "code",
      "source": [
        "list=['rakesh','2003']\n",
        "print(list)\n",
        "del list[1]\n",
        "print(list)"
      ],
      "metadata": {
        "colab": {
          "base_uri": "https://localhost:8080/"
        },
        "id": "5Os2WghMsMXJ",
        "outputId": "c70e174a-c6ce-44f1-a83c-b7dc52a69931"
      },
      "execution_count": 16,
      "outputs": [
        {
          "output_type": "stream",
          "name": "stdout",
          "text": [
            "['rakesh', '2003']\n",
            "['rakesh']\n"
          ]
        }
      ]
    },
    {
      "cell_type": "code",
      "source": [
        "name=[\"Rakesh\",'manji','suvali']\n",
        "DOB=[2003,2004,2005]\n",
        "print(\"name with maximum character\",max(name))\n",
        "print(\"name with minimum character\",min(name))\n",
        "print(\"DOB with maximum character\",max(DOB))\n",
        "print(\"DOB with minimum character\",min(DOB))"
      ],
      "metadata": {
        "id": "5wTyVR8cs_zR"
      },
      "execution_count": null,
      "outputs": []
    },
    {
      "cell_type": "code",
      "source": [
        "name=['rakesh','suvalli']\n",
        "print(\"member: \",name)\n",
        "name.insert(1,\"manji\")\n",
        "print(\"member: \",name)"
      ],
      "metadata": {
        "colab": {
          "base_uri": "https://localhost:8080/"
        },
        "id": "cmYrEJiItA2J",
        "outputId": "16264f86-f5a4-483f-8b46-be4296185708"
      },
      "execution_count": 20,
      "outputs": [
        {
          "output_type": "stream",
          "name": "stdout",
          "text": [
            "member:  ['rakesh', 'suvalli']\n",
            "member:  ['rakesh', 'manji', 'suvalli']\n"
          ]
        }
      ]
    },
    {
      "cell_type": "code",
      "source": [
        "name=['rakesh','suvalli',\"manji\"]\n",
        "print(\"member: \",name)\n",
        "name.pop()\n",
        "print(\"member: \",name)\n",
        "name.pop(1)\n",
        "print(\"member: \",name)"
      ],
      "metadata": {
        "colab": {
          "base_uri": "https://localhost:8080/"
        },
        "id": "GY_kF2oWtDaq",
        "outputId": "6221ce1d-3ac4-4bd9-c36c-eec9e0d1bb81"
      },
      "execution_count": 19,
      "outputs": [
        {
          "output_type": "stream",
          "name": "stdout",
          "text": [
            "member:  ['rakesh', 'suvalli', 'manji']\n",
            "member:  ['rakesh', 'suvalli']\n",
            "member:  ['rakesh']\n"
          ]
        }
      ]
    },
    {
      "cell_type": "code",
      "source": [
        "name=['rakesh','suvalli',\"manji\"]\n",
        "print(\"member: \",name)\n",
        "name.remove(\"manji\")\n",
        "print(\"member: \",name)"
      ],
      "metadata": {
        "colab": {
          "base_uri": "https://localhost:8080/"
        },
        "id": "AAFfrq_ZtGK5",
        "outputId": "a7a5f999-43bc-4f83-b0fd-b6b7ff5ec3b0"
      },
      "execution_count": 18,
      "outputs": [
        {
          "output_type": "stream",
          "name": "stdout",
          "text": [
            "member:  ['rakesh', 'suvalli', 'manji']\n",
            "member:  ['rakesh', 'suvalli']\n"
          ]
        }
      ]
    },
    {
      "cell_type": "code",
      "source": [
        "name=['rakesh','suvalli',\"manji\"]\n",
        "print(\"member: \",name)\n",
        "name.reverse()\n",
        "print(\"member: \",name)"
      ],
      "metadata": {
        "colab": {
          "base_uri": "https://localhost:8080/"
        },
        "id": "XVlakZXntLg5",
        "outputId": "aaffb352-cb54-422b-f978-fbf0124652d6"
      },
      "execution_count": 17,
      "outputs": [
        {
          "output_type": "stream",
          "name": "stdout",
          "text": [
            "member:  ['rakesh', 'suvalli', 'manji']\n",
            "member:  ['manji', 'suvalli', 'rakesh']\n"
          ]
        }
      ]
    },
    {
      "cell_type": "code",
      "source": [
        "name=['rakesh','suvalli',\"manji\"]\n",
        "print(\"member: \",name)\n",
        "name.sort()\n",
        "print(\"member: \",name)"
      ],
      "metadata": {
        "colab": {
          "base_uri": "https://localhost:8080/"
        },
        "id": "ocHHG4fxtPaZ",
        "outputId": "7cde53a6-2990-43e8-a436-fc71ac25acc6"
      },
      "execution_count": 21,
      "outputs": [
        {
          "output_type": "stream",
          "name": "stdout",
          "text": [
            "member:  ['rakesh', 'suvalli', 'manji']\n",
            "member:  ['manji', 'rakesh', 'suvalli']\n"
          ]
        }
      ]
    },
    {
      "cell_type": "markdown",
      "source": [
        "\n",
        "# TUPLE\n",
        "\n"
      ],
      "metadata": {
        "id": "lkDawbG7teiJ"
      }
    },
    {
      "cell_type": "code",
      "source": [
        "tuple=(\"rakesh\",\"vikram\",\"ajay\",\"ambadas\")\n",
        "print(tuple)\n",
        "print(tuple[0])\n",
        "print(tuple[0:2])\n",
        "print(tuple[0:])\n",
        "print(tuple[::-1])\n",
        "print(tuple[2:0:-1])"
      ],
      "metadata": {
        "colab": {
          "base_uri": "https://localhost:8080/"
        },
        "id": "FHL0SEertgv5",
        "outputId": "3e81b073-2ea1-4c0e-df8d-757df7b2de7f"
      },
      "execution_count": 23,
      "outputs": [
        {
          "output_type": "stream",
          "name": "stdout",
          "text": [
            "('rakesh', 'vikram', 'ajay', 'ambadas')\n",
            "rakesh\n",
            "('rakesh', 'vikram')\n",
            "('rakesh', 'vikram', 'ajay', 'ambadas')\n",
            "('ambadas', 'ajay', 'vikram', 'rakesh')\n",
            "('ajay', 'vikram')\n"
          ]
        }
      ]
    },
    {
      "cell_type": "code",
      "source": [
        "tuple=(\"rakesh\",\"vikram\",\"ajay\",\"ambadas\")\n",
        "tg=(200,2004,2002)\n",
        "print(tuple*2)\n",
        "print(tuple+tg)\n",
        "list=[\"pavan\",\"phanindra\",\"rahul\"]\n",
        "print(list)\n",
        "list[0]=\"rajkumar\"\n",
        "print(list)"
      ],
      "metadata": {
        "colab": {
          "base_uri": "https://localhost:8080/"
        },
        "id": "OqJWrlrmtkKx",
        "outputId": "c644e2ba-adad-44d5-d2ae-f61e7065a9e9"
      },
      "execution_count": 24,
      "outputs": [
        {
          "output_type": "stream",
          "name": "stdout",
          "text": [
            "('rakesh', 'vikram', 'ajay', 'ambadas', 'rakesh', 'vikram', 'ajay', 'ambadas')\n",
            "('rakesh', 'vikram', 'ajay', 'ambadas', 200, 2004, 2002)\n",
            "['pavan', 'phanindra', 'rahul']\n",
            "['rajkumar', 'phanindra', 'rahul']\n"
          ]
        }
      ]
    },
    {
      "cell_type": "markdown",
      "source": [
        "\n",
        "# DICTIONARY"
      ],
      "metadata": {
        "id": "B6TuN80HttaS"
      }
    },
    {
      "cell_type": "code",
      "source": [
        "dict={}\n",
        "print(dict)\n",
        "dict[\"one\"]=\"my opinon is my own\"\n",
        "print(dict)\n",
        "dict[\"2\"]=\"my self\"\n",
        "print(dict)\n",
        "print(dict.keys())\n",
        "print(dict.values())"
      ],
      "metadata": {
        "colab": {
          "base_uri": "https://localhost:8080/"
        },
        "id": "acVM26-rtkdZ",
        "outputId": "4e593012-8abb-40f1-df71-0298b1a5d12a"
      },
      "execution_count": 22,
      "outputs": [
        {
          "output_type": "stream",
          "name": "stdout",
          "text": [
            "{}\n",
            "{'one': 'my opinon is my own'}\n",
            "{'one': 'my opinon is my own', '2': 'my self'}\n",
            "dict_keys(['one', '2'])\n",
            "dict_values(['my opinon is my own', 'my self'])\n"
          ]
        }
      ]
    },
    {
      "cell_type": "code",
      "source": [
        "base={\"name\":\"rakesh\",\"marks\":848}\n",
        "print(base)\n",
        "print(base[\"name\"])\n",
        "print(base[\"marks\"])\n",
        "base[\"marks\"]=900\n",
        "print(base)\n",
        "base[\"name\"]=\"sonu\"\n",
        "print(base)\n",
        "print(base.keys())\n",
        "print(base.values())"
      ],
      "metadata": {
        "colab": {
          "base_uri": "https://localhost:8080/"
        },
        "id": "YHAk1JxZtknt",
        "outputId": "f58fed85-ef0e-43ac-8539-4f6a35222c5b"
      },
      "execution_count": 25,
      "outputs": [
        {
          "output_type": "stream",
          "name": "stdout",
          "text": [
            "{'name': 'rakesh', 'marks': 848}\n",
            "rakesh\n",
            "848\n",
            "{'name': 'rakesh', 'marks': 900}\n",
            "{'name': 'sonu', 'marks': 900}\n",
            "dict_keys(['name', 'marks'])\n",
            "dict_values(['sonu', 900])\n"
          ]
        }
      ]
    }
  ]
}